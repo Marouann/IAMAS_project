{
 "cells": [
  {
   "cell_type": "code",
   "execution_count": 270,
   "metadata": {},
   "outputs": [],
   "source": [
    "class Atom:\n",
    "    def __init__(self, name, variables):\n",
    "        self.name = name\n",
    "        self.variables = variables\n",
    "        self.arity = len(variables)\n",
    "        \n",
    "    def replace_variables(self, variable_map):\n",
    "        var_to_replace = []\n",
    "        try:\n",
    "            var_to_replace = list(filter(lambda var: var in variable_map, self.variables))\n",
    "            actual_atom = Atom(self.name, [variable_map[var] if var in var_to_replace else var for var in self.variables])\n",
    "            return actual_atom\n",
    "        except KeyError:\n",
    "            print(\"Wrong variables given to action.\")\n",
    "        \n",
    "        \n",
    "        \n",
    "    def __eq__(self, other):\n",
    "        return self.name == other.name and self.arity == other.arity and self.variables == other.variables\n",
    "    \n",
    "    def __str__(self):\n",
    "        var_string = \"\"\n",
    "        for var in self.variables:\n",
    "            var_string += var\n",
    "            var_string += \", \"\n",
    "        var_string = var_string[:-2]\n",
    "        return \"Atom: \" + self.name +\"(\" + var_string + \")\""
   ]
  },
  {
   "cell_type": "code",
   "execution_count": 271,
   "metadata": {},
   "outputs": [],
   "source": [
    "class State:\n",
    "    def __init__(self, name, atoms):\n",
    "        self.name = name\n",
    "        self.atoms = atoms\n",
    "        self.length = len(atoms)\n",
    "    \n",
    "    def removeAtom(self, atom):\n",
    "        # if atom not in s then do nothing\n",
    "        try:\n",
    "            self.atoms.remove(atom)\n",
    "            self.length -= 1\n",
    "        except ValueError:\n",
    "            pass\n",
    "    \n",
    "    def addAtom(self, atom):\n",
    "        self.atoms.append(atom)\n",
    "        self.length += 1\n",
    "    \n",
    "    def __len__(self):\n",
    "        return self.length\n",
    "    \n",
    "    def __eq__(self, other):\n",
    "        return self.atoms == other.atoms\n",
    "    \n",
    "    def __str__(self):\n",
    "        state_str = \"State \" + self.name + \": \"\n",
    "        for atom in self.atoms:\n",
    "            state_str += str(atom)[6:] + \"^\"\n",
    "        return state_str[:-1]\n",
    "    \n",
    "    def copy(self):\n",
    "        return State(s.name, s.atoms.copy())\n",
    "    "
   ]
  },
  {
   "cell_type": "code",
   "execution_count": 272,
   "metadata": {},
   "outputs": [],
   "source": [
    "class Action:\n",
    "    '''\n",
    "        variables can be anything when defining the actions, they will be replaced by actual variables\n",
    "        at applicability check or at execution of the action\n",
    "    '''\n",
    "    \n",
    "    def __init__(self, name, preconditions, positive_effects, negative_effects, variables):\n",
    "        self.name = name\n",
    "        self.preconditions = preconditions\n",
    "        self.positive_effects = positive_effects\n",
    "        self.negative_effects = negative_effects\n",
    "        self.variables = variables\n",
    "    \n",
    "    def isPracticalInState(self, s, variables):\n",
    "        practical = True\n",
    "        i = 0\n",
    "        variable_map = self.createVariableMap(variables)\n",
    "        while practical and i<len(self.preconditions):\n",
    "            actual_atom = self.preconditions[i].replace_variables(variable_map)\n",
    "            practical = practical and (actual_atom in s.atoms)\n",
    "            i += 1 \n",
    "        return practical\n",
    "    \n",
    "    def execute(self, s, variables):\n",
    "        if self.isPracticalInState(s, variables):\n",
    "            variable_map = self.createVariableMap(variables)\n",
    "\n",
    "            for effect in self.negative_effects:\n",
    "                s.removeAtom(effect.replace_variables(variable_map))\n",
    "\n",
    "            for effect in self.positive_effects:\n",
    "                s.addAtom(effect.replace_variables(variable_map))\n",
    "        else:\n",
    "            print(\"This action is not applicable here.\")\n",
    "            \n",
    "    def createVariableMap(self, variables):\n",
    "        variable_map = {}\n",
    "        if len(variables) != len(self.variables):\n",
    "            print(\"Wrong number of variables given. Please check action schema.\")\n",
    "            return None\n",
    "       \n",
    "        for i, var in enumerate(self.variables):\n",
    "            variable_map[var] = variables[i]\n",
    "            \n",
    "        return variable_map\n",
    "        "
   ]
  },
  {
   "cell_type": "code",
   "execution_count": 274,
   "metadata": {},
   "outputs": [],
   "source": [
    "class LogicSolver:\n",
    "    def __init__(self, initial_state, goal, actions):\n",
    "        self.initial_state = initial_state\n",
    "        self.goal = goal\n",
    "        self.actions = actions\n",
    "    \n",
    "    def getPracticalActionsInState(self, s):\n",
    "        practical_actions = []\n",
    "        for action in self.actions:\n",
    "            practical = True\n",
    "            i = 0\n",
    "            sorted_atoms = {}\n",
    "            for atom in action.preconditions:\n",
    "                sorted_atoms[atom.name] = []\n",
    "            for atom in s.atoms:\n",
    "                sorted_atoms[atom.name].append(atom.variables)\n",
    "                \n",
    "            variable_map = {}\n",
    "            for var in action.variables:\n",
    "                variable_map[var] = None\n",
    "            \n",
    "            while practical and i<len(action.preconditions):\n",
    "                \n",
    "                \n",
    "                \n",
    "                i+=1\n",
    "        "
   ]
  },
  {
   "cell_type": "code",
   "execution_count": 275,
   "metadata": {},
   "outputs": [],
   "source": [
    "p1 = Atom(\"On\",[\"A\", \"1\"])\n",
    "p2 = Atom(\"On\",[\"A\", \"2\"])\n",
    "b1 = Atom(\"Box\", [\"1\"])\n",
    "b2 = Atom(\"Box\", [\"2\"])"
   ]
  },
  {
   "cell_type": "code",
   "execution_count": 276,
   "metadata": {},
   "outputs": [
    {
     "name": "stdout",
     "output_type": "stream",
     "text": [
      "State s0: On(A, 1)^On(A, 2)^Box(1)^Box(2)\n"
     ]
    }
   ],
   "source": [
    "s0 = State(\"s0\", [p1, p2, b1, b2])\n",
    "print(s0)"
   ]
  },
  {
   "cell_type": "code",
   "execution_count": 277,
   "metadata": {},
   "outputs": [],
   "source": [
    "move = Action(name= \"Move\", \n",
    "              preconditions= [Atom(\"Box\", ['x']), \n",
    "                              Atom(\"On\", [\"A\",\"x\"])],\n",
    "              positive_effects = [Atom(\"On\", [\"B\",\"x\"])],\n",
    "              negative_effects = [Atom(\"On\", [\"A\",\"x\"])], \n",
    "              variables = [\"x\"])"
   ]
  },
  {
   "cell_type": "code",
   "execution_count": 279,
   "metadata": {
    "scrolled": true
   },
   "outputs": [
    {
     "data": {
      "text/plain": [
       "False"
      ]
     },
     "execution_count": 279,
     "metadata": {},
     "output_type": "execute_result"
    }
   ],
   "source": [
    "move.isPracticalInState(s0, [\"3\"])"
   ]
  },
  {
   "cell_type": "code",
   "execution_count": 281,
   "metadata": {},
   "outputs": [
    {
     "name": "stdout",
     "output_type": "stream",
     "text": [
      "State s0: Box(1)^Box(2)^On(B, 1)^On(B, 2)\n"
     ]
    }
   ],
   "source": [
    "move.execute(s0, [\"2\"])\n",
    "print(s0)"
   ]
  },
  {
   "cell_type": "code",
   "execution_count": null,
   "metadata": {},
   "outputs": [],
   "source": []
  }
 ],
 "metadata": {
  "kernelspec": {
   "display_name": "Python 3",
   "language": "python",
   "name": "python3"
  },
  "language_info": {
   "codemirror_mode": {
    "name": "ipython",
    "version": 3
   },
   "file_extension": ".py",
   "mimetype": "text/x-python",
   "name": "python",
   "nbconvert_exporter": "python",
   "pygments_lexer": "ipython3",
   "version": "3.6.7"
  }
 },
 "nbformat": 4,
 "nbformat_minor": 2
}
